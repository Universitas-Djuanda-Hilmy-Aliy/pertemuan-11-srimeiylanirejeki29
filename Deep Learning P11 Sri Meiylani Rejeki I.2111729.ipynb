{
  "nbformat": 4,
  "nbformat_minor": 0,
  "metadata": {
    "colab": {
      "provenance": []
    },
    "kernelspec": {
      "name": "python3",
      "display_name": "Python 3"
    },
    "language_info": {
      "name": "python"
    }
  },
  "cells": [
    {
      "cell_type": "markdown",
      "source": [
        "<br>**Overfitting**</b> <br>\n",
        "Definisi : Sebuah fenomena dimana bahwa model yang digunakan terlalu cocok atau sesuai dengan data training sehingga kehilangan kemampuan untuk melakukan deteksi pada data baru (data testing)\n",
        "\n",
        "Contohnya : ketika hasil training bagus, tapi hasil testingnya buruk"
      ],
      "metadata": {
        "id": "V-D9_NpYA2Zl"
      }
    },
    {
      "cell_type": "markdown",
      "source": [
        "Beberapa Karakteristik Utama Terjadinya Overfitting :<br>\n",
        "1. Performanya tinggi pada data training, tetapi rendah di testing\n",
        "2. Model yang dibuat teralalu rumit"
      ],
      "metadata": {
        "id": "xeghR-m8CNMQ"
      }
    },
    {
      "cell_type": "markdown",
      "source": [
        "Penyabab Overfitting :<br>\n",
        "1. Data trainingnya terlalu sedikit\n",
        "2. Datanya tidak beragam\n",
        "3. Model terlalu kompleks\n",
        "4. Proses training terlalu lama"
      ],
      "metadata": {
        "id": "n_xgOp6MCqW_"
      }
    },
    {
      "cell_type": "markdown",
      "source": [
        "Cara Mengatasi Overfitting :<br>\n",
        "1. Sediakan data yang banyak\n",
        "2. Menggunakan Dropout\n",
        "3. Cross Validation"
      ],
      "metadata": {
        "id": "ZGXofCUCC-PW"
      }
    },
    {
      "cell_type": "code",
      "execution_count": 73,
      "metadata": {
        "id": "HeulgVveAsew"
      },
      "outputs": [],
      "source": [
        "import matplotlib.pyplot as plt\n",
        "from tensorflow.keras.datasets import fashion_mnist\n",
        "\n",
        "(train_images,train_labels),(test_images,test_labels) = fashion_mnist.load_data()"
      ]
    },
    {
      "cell_type": "code",
      "source": [
        "print(\"Ukuran Citra Train\",train_images.shape)\n",
        "print(\"Jumlah Label Train\",train_labels.shape)\n",
        "\n",
        "print(\"Ukuran Citra Test\",test_images.shape)#10.000 itu jumlah gambarnya, 28x28 itu ukuran gambar/citranya\n",
        "print(\"Jumlah Label Test\",test_labels.shape)"
      ],
      "metadata": {
        "colab": {
          "base_uri": "https://localhost:8080/"
        },
        "id": "3b_gezEwFMQR",
        "outputId": "9469073e-65e8-40e4-a128-15ed5bcce018"
      },
      "execution_count": 74,
      "outputs": [
        {
          "output_type": "stream",
          "name": "stdout",
          "text": [
            "Ukuran Citra Train (60000, 28, 28)\n",
            "Jumlah Label Train (60000,)\n",
            "Ukuran Citra Test (10000, 28, 28)\n",
            "Jumlah Label Test (10000,)\n"
          ]
        }
      ]
    },
    {
      "cell_type": "code",
      "source": [
        "print(set(train_labels))"
      ],
      "metadata": {
        "colab": {
          "base_uri": "https://localhost:8080/"
        },
        "id": "iER-Y0OPFjVp",
        "outputId": "05d9ee7c-1707-4f54-fda4-fc54c24a9c27"
      },
      "execution_count": 75,
      "outputs": [
        {
          "output_type": "stream",
          "name": "stdout",
          "text": [
            "{0, 1, 2, 3, 4, 5, 6, 7, 8, 9}\n"
          ]
        }
      ]
    },
    {
      "cell_type": "code",
      "source": [
        "train_images = train_images.reshape((60000,28 * 28))\n",
        "train_images = train_images.astype(\"float32\") / 255\n",
        "\n",
        "test_images = test_images.reshape((10000,28 * 28))\n",
        "test_images = test_images.astype(\"float32\") / 255"
      ],
      "metadata": {
        "id": "8dQF2ue_Fgwu"
      },
      "execution_count": 76,
      "outputs": []
    },
    {
      "cell_type": "code",
      "source": [
        "#Arsitektur Modelnya\n",
        "import tensorflow as tf\n",
        "import numpy as np\n",
        "\n",
        "model = tf.keras.Sequential([\n",
        "    tf.keras.layers.Dense(512, activation = 'relu'),\n",
        "    tf.keras.layers.Dense(10,activation = 'sigmoid')\n",
        "])"
      ],
      "metadata": {
        "id": "n56uiT8HGF0p"
      },
      "execution_count": 77,
      "outputs": []
    },
    {
      "cell_type": "code",
      "source": [
        "model.compile(optimizer ='rmsprop', loss='sparse_categorical_crossentropy', metrics=['accuracy'])"
      ],
      "metadata": {
        "id": "EN_mi6EbGJCC"
      },
      "execution_count": 78,
      "outputs": []
    },
    {
      "cell_type": "code",
      "source": [
        "sampel_train_images = train_images[:100]\n",
        "sampel_train_labels = train_labels[:100]"
      ],
      "metadata": {
        "id": "7r998ySpG3os"
      },
      "execution_count": 79,
      "outputs": []
    },
    {
      "cell_type": "code",
      "source": [
        "sampel_train_images.shape"
      ],
      "metadata": {
        "colab": {
          "base_uri": "https://localhost:8080/"
        },
        "id": "bZLRw_2HHXHW",
        "outputId": "199a3581-7295-436c-d355-fc69c8c15fbc"
      },
      "execution_count": 80,
      "outputs": [
        {
          "output_type": "execute_result",
          "data": {
            "text/plain": [
              "(100, 784)"
            ]
          },
          "metadata": {},
          "execution_count": 80
        }
      ]
    },
    {
      "cell_type": "code",
      "source": [
        "model.fit(sampel_train_images,sampel_train_labels, epochs= 10, batch_size=128)"
      ],
      "metadata": {
        "colab": {
          "base_uri": "https://localhost:8080/"
        },
        "id": "zewOHxD-GOrW",
        "outputId": "28f224b8-9d71-4727-92f7-10f8dfd002fc"
      },
      "execution_count": 81,
      "outputs": [
        {
          "output_type": "stream",
          "name": "stdout",
          "text": [
            "Epoch 1/10\n",
            "1/1 [==============================] - 0s 429ms/step - loss: 2.4165 - accuracy: 0.0400\n",
            "Epoch 2/10\n",
            "1/1 [==============================] - 0s 16ms/step - loss: 1.6395 - accuracy: 0.3300\n",
            "Epoch 3/10\n",
            "1/1 [==============================] - 0s 18ms/step - loss: 2.1852 - accuracy: 0.4500\n",
            "Epoch 4/10\n",
            "1/1 [==============================] - 0s 15ms/step - loss: 1.5341 - accuracy: 0.5600\n",
            "Epoch 5/10\n",
            "1/1 [==============================] - 0s 16ms/step - loss: 1.1701 - accuracy: 0.7100\n",
            "Epoch 6/10\n",
            "1/1 [==============================] - 0s 16ms/step - loss: 0.9396 - accuracy: 0.7400\n",
            "Epoch 7/10\n",
            "1/1 [==============================] - 0s 17ms/step - loss: 0.7454 - accuracy: 0.8300\n",
            "Epoch 8/10\n",
            "1/1 [==============================] - 0s 17ms/step - loss: 0.6904 - accuracy: 0.8200\n",
            "Epoch 9/10\n",
            "1/1 [==============================] - 0s 16ms/step - loss: 0.7072 - accuracy: 0.8200\n",
            "Epoch 10/10\n",
            "1/1 [==============================] - 0s 18ms/step - loss: 0.5570 - accuracy: 0.8400\n"
          ]
        },
        {
          "output_type": "execute_result",
          "data": {
            "text/plain": [
              "<keras.src.callbacks.History at 0x788bd21c5c90>"
            ]
          },
          "metadata": {},
          "execution_count": 81
        }
      ]
    },
    {
      "cell_type": "code",
      "source": [
        "prediksi = model(test_images)\n",
        "prediksi = prediksi.numpy() # Supaya hasilnya array\n",
        "prediksi_label = np.argmax(prediksi,axis=1)\n",
        "prediksi_betul = prediksi_label == test_labels\n",
        "print(f\"akurasi hasil data test:{prediksi_betul.mean():.2f}\")"
      ],
      "metadata": {
        "colab": {
          "base_uri": "https://localhost:8080/"
        },
        "id": "ma9FDA4SGb2o",
        "outputId": "18394ac6-7ad5-43f5-9613-4a943d7a2a61"
      },
      "execution_count": 82,
      "outputs": [
        {
          "output_type": "stream",
          "name": "stdout",
          "text": [
            "akurasi hasil data test:0.59\n"
          ]
        }
      ]
    },
    {
      "cell_type": "markdown",
      "source": [
        "Pembuatan Model yang lebih Deep"
      ],
      "metadata": {
        "id": "qUMKPI5dLI05"
      }
    },
    {
      "cell_type": "code",
      "source": [
        "#Arsitektur Modelnya\n",
        "import tensorflow as tf\n",
        "import numpy as np\n",
        "\n",
        "model_saya = tf.keras.Sequential([ #modelnya bisa di ganti sesuai keinginan sendiri\n",
        "    tf.keras.layers.Dense(512, activation = 'relu'),\n",
        "    tf.keras.layers.Dropout(0.5),\n",
        "    tf.keras.layers.Dense(256, activation = 'relu'),\n",
        "    tf.keras.layers.Dropout(0.5),\n",
        "    tf.keras.layers.Dense(128, activation = 'relu'),\n",
        "    tf.keras.layers.Dense(64, activation = 'relu'),\n",
        "    tf.keras.layers.Dense(32, activation = 'relu'),\n",
        "    tf.keras.layers.Dense(10,activation = 'sigmoid')\n",
        "])"
      ],
      "metadata": {
        "id": "pg9tIgHXK9vd"
      },
      "execution_count": 87,
      "outputs": []
    },
    {
      "cell_type": "code",
      "source": [
        "model_saya.compile(optimizer ='rmsprop', loss='sparse_categorical_crossentropy', metrics=['accuracy'])"
      ],
      "metadata": {
        "id": "g6dCHQM_M45V"
      },
      "execution_count": 88,
      "outputs": []
    },
    {
      "cell_type": "code",
      "source": [
        "model_saya.fit(train_images,train_labels, epochs= 10, batch_size=128)"
      ],
      "metadata": {
        "colab": {
          "base_uri": "https://localhost:8080/"
        },
        "id": "tfwfqnCMND58",
        "outputId": "c52db137-17cd-49a4-e162-3d37bd38311a"
      },
      "execution_count": 89,
      "outputs": [
        {
          "output_type": "stream",
          "name": "stdout",
          "text": [
            "Epoch 1/10\n",
            "469/469 [==============================] - 9s 16ms/step - loss: 0.7294 - accuracy: 0.7274\n",
            "Epoch 2/10\n",
            "469/469 [==============================] - 8s 16ms/step - loss: 0.4941 - accuracy: 0.8213\n",
            "Epoch 3/10\n",
            "469/469 [==============================] - 7s 15ms/step - loss: 0.4483 - accuracy: 0.8378\n",
            "Epoch 4/10\n",
            "469/469 [==============================] - 8s 17ms/step - loss: 0.4254 - accuracy: 0.8452\n",
            "Epoch 5/10\n",
            "469/469 [==============================] - 8s 17ms/step - loss: 0.4053 - accuracy: 0.8544\n",
            "Epoch 6/10\n",
            "469/469 [==============================] - 8s 17ms/step - loss: 0.3952 - accuracy: 0.8589\n",
            "Epoch 7/10\n",
            "469/469 [==============================] - 7s 14ms/step - loss: 0.3831 - accuracy: 0.8631\n",
            "Epoch 8/10\n",
            "469/469 [==============================] - 8s 17ms/step - loss: 0.3750 - accuracy: 0.8657\n",
            "Epoch 9/10\n",
            "469/469 [==============================] - 7s 14ms/step - loss: 0.3665 - accuracy: 0.8688\n",
            "Epoch 10/10\n",
            "469/469 [==============================] - 8s 17ms/step - loss: 0.3638 - accuracy: 0.8711\n"
          ]
        },
        {
          "output_type": "execute_result",
          "data": {
            "text/plain": [
              "<keras.src.callbacks.History at 0x788bd2119db0>"
            ]
          },
          "metadata": {},
          "execution_count": 89
        }
      ]
    },
    {
      "cell_type": "code",
      "source": [
        "model_saya.summary()"
      ],
      "metadata": {
        "colab": {
          "base_uri": "https://localhost:8080/"
        },
        "id": "6Pug8X66OLOG",
        "outputId": "22a8b669-ff7a-44af-c710-20ede4093816"
      },
      "execution_count": 90,
      "outputs": [
        {
          "output_type": "stream",
          "name": "stdout",
          "text": [
            "Model: \"sequential_10\"\n",
            "_________________________________________________________________\n",
            " Layer (type)                Output Shape              Param #   \n",
            "=================================================================\n",
            " dense_32 (Dense)            (None, 512)               401920    \n",
            "                                                                 \n",
            " dropout (Dropout)           (None, 512)               0         \n",
            "                                                                 \n",
            " dense_33 (Dense)            (None, 256)               131328    \n",
            "                                                                 \n",
            " dropout_1 (Dropout)         (None, 256)               0         \n",
            "                                                                 \n",
            " dense_34 (Dense)            (None, 128)               32896     \n",
            "                                                                 \n",
            " dense_35 (Dense)            (None, 64)                8256      \n",
            "                                                                 \n",
            " dense_36 (Dense)            (None, 32)                2080      \n",
            "                                                                 \n",
            " dense_37 (Dense)            (None, 10)                330       \n",
            "                                                                 \n",
            "=================================================================\n",
            "Total params: 576810 (2.20 MB)\n",
            "Trainable params: 576810 (2.20 MB)\n",
            "Non-trainable params: 0 (0.00 Byte)\n",
            "_________________________________________________________________\n"
          ]
        }
      ]
    },
    {
      "cell_type": "code",
      "source": [
        "prediksi = model_saya(test_images)\n",
        "prediksi = prediksi.numpy() # Supaya hasilnya array\n",
        "prediksi_label = np.argmax(prediksi,axis=1)\n",
        "prediksi_betul = prediksi_label == test_labels\n",
        "print(f\"akurasi hasil data test:{prediksi_betul.mean():.2f}\")"
      ],
      "metadata": {
        "colab": {
          "base_uri": "https://localhost:8080/"
        },
        "id": "yTj_XgmOPlxC",
        "outputId": "05139f52-e98c-4202-d010-d5f92ea1d856"
      },
      "execution_count": 91,
      "outputs": [
        {
          "output_type": "stream",
          "name": "stdout",
          "text": [
            "akurasi hasil data test:0.87\n"
          ]
        }
      ]
    },
    {
      "cell_type": "markdown",
      "source": [
        "Tujuan Dropout adalah untuk mencegah terjadinya overfitting"
      ],
      "metadata": {
        "id": "PIWBQdHgQLcg"
      }
    },
    {
      "cell_type": "markdown",
      "source": [
        "Pretrained Model (Model yang sudah dilatih)"
      ],
      "metadata": {
        "id": "7m51gI0DRsvK"
      }
    },
    {
      "cell_type": "code",
      "source": [
        "model_saya.save('model_srimeiy.h5')"
      ],
      "metadata": {
        "colab": {
          "base_uri": "https://localhost:8080/"
        },
        "id": "5b7xfBxgQ7eC",
        "outputId": "0be9a4ab-1a1d-456c-aa45-d6988e3f77eb"
      },
      "execution_count": 92,
      "outputs": [
        {
          "output_type": "stream",
          "name": "stderr",
          "text": [
            "/usr/local/lib/python3.10/dist-packages/keras/src/engine/training.py:3103: UserWarning: You are saving your model as an HDF5 file via `model.save()`. This file format is considered legacy. We recommend using instead the native Keras format, e.g. `model.save('my_model.keras')`.\n",
            "  saving_api.save_model(\n"
          ]
        }
      ]
    }
  ]
}